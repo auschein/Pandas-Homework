{
 "cells": [
  {
   "cell_type": "markdown",
   "metadata": {},
   "source": [
    "# PyCity Schools Analysis\n",
    "\n",
    "* As a whole, schools with higher budgets, did not yield better test results. By contrast, schools with higher spending per student actually (\\$645-675) underperformed compared to schools with smaller budgets (<\\$585 per student).\n",
    "\n",
    "* As a whole, smaller and medium sized schools dramatically out-performed large sized schools on passing math performances (89-91% passing vs 67%).\n",
    "\n",
    "* As a whole, charter schools out-performed the public district schools across all metrics. However, more analysis will be required to glean if the effect is due to school practices or the fact that charter schools tend to serve smaller student populations per school. \n",
    "---"
   ]
  },
  {
   "cell_type": "markdown",
   "metadata": {},
   "source": [
    "### Note\n",
    "* Instructions have been included for each segment. You do not have to follow them exactly, but they are included to help you think through the steps."
   ]
  },
  {
   "cell_type": "code",
   "execution_count": null,
   "metadata": {},
   "outputs": [],
   "source": [
    "# Dependencies and Setup\n",
    "import pandas as pd\n",
    "import os\n",
    "\n",
    "# File to Load (Remember to Change These)\n",
    "school_data_to_load = \"Resources/schools_complete.csv\"\n",
    "student_data_to_load = \"Resources/students_complete.csv\"\n",
    "\n",
    "# Read School and Student Data File and store into Pandas Data Frames\n",
    "school_data = pd.read_csv(school_data_to_load)\n",
    "student_data = pd.read_csv(student_data_to_load)\n",
    "\n",
    "# Combine the data into a single dataset\n",
    "school_data_complete = pd.merge(student_data, school_data, how=\"left\", on=[\"school_name\", \"school_name\"])"
   ]
  },
  {
   "cell_type": "markdown",
   "metadata": {},
   "source": [
    "## District Summary\n",
    "\n",
    "* Calculate the total number of schools\n",
    "\n",
    "* Calculate the total number of students\n",
    "\n",
    "* Calculate the total budget\n",
    "\n",
    "* Calculate the average math score \n",
    "\n",
    "* Calculate the average reading score\n",
    "\n",
    "* Calculate the overall passing rate (overall average score), i.e. (avg. math score + avg. reading score)/2\n",
    "\n",
    "* Calculate the percentage of students with a passing math score (70 or greater)\n",
    "\n",
    "* Calculate the percentage of students with a passing reading score (70 or greater)\n",
    "\n",
    "* Create a dataframe to hold the above results\n",
    "\n",
    "* Optional: give the displayed data cleaner formatting"
   ]
  },
  {
   "cell_type": "code",
   "execution_count": null,
   "metadata": {},
   "outputs": [],
   "source": [
    "numschools = school_data[\"school_name\"].count()\n",
    "numstudents = student_data[\"student_name\"].count()\n",
    "totalbudget = school_data[\"budget\"].sum()\n",
    "mathavg = student_data[\"math_score\"].mean()\n",
    "readavg = student_data[\"reading_score\"].mean()"
   ]
  },
  {
   "cell_type": "code",
   "execution_count": null,
   "metadata": {},
   "outputs": [],
   "source": [
    "#Percentage of students with a passing math score\n",
    "passmath = student_data.loc[(student_data[\"math_score\"]) >= 70]\n",
    "passmathcount = passmath[\"math_score\"].count()\n",
    "percpassmath = (passmathcount/numstudents) * 100\n",
    "percpassmath"
   ]
  },
  {
   "cell_type": "code",
   "execution_count": null,
   "metadata": {},
   "outputs": [],
   "source": [
    "#Percentage of students with a passing reading score\n",
    "passread = student_data.loc[(student_data[\"reading_score\"]) >= 70]\n",
    "passreadcount = passread[\"reading_score\"].count()\n",
    "percpassreading = (passreadcount/numstudents) * 100\n",
    "percpassreading"
   ]
  },
  {
   "cell_type": "code",
   "execution_count": null,
   "metadata": {
    "scrolled": true
   },
   "outputs": [],
   "source": [
    "#Overall passing rate\n",
    "overallpass = (percpassmath + percpassreading)/2\n",
    "overallpass"
   ]
  },
  {
   "cell_type": "code",
   "execution_count": null,
   "metadata": {},
   "outputs": [],
   "source": [
    "#Dataframe to hold results\n",
    "summary = {\n",
    "    \"Total Schools\": numschools,\n",
    "    \"Total Students\" : numstudents,\n",
    "    \"Total Budget\" : totalbudget,\n",
    "    \"Math Score Average\" : mathavg,\n",
    "    \"Reading Score Average\" : readavg,\n",
    "    \"Passing Math Percent\" : percpassmath,\n",
    "    \"Passing Reading Percent\" : percpassreading,\n",
    "    \"Overall Passing Percent\" : overallpass  \n",
    "}\n",
    "\n",
    "summary_df = pd.DataFrame([summary])\n",
    "summary_df = summary_df[[\"Total Schools\",\n",
    "                   \"Total Students\",\"Total Budget\",\"Math Score Average\", \"Reading Score Average\",\n",
    "                   \"Passing Math Percent\", \"Passing Reading Percent\", \"Overall Passing Percent\" ]]\n",
    "\n",
    "summary_df"
   ]
  },
  {
   "cell_type": "markdown",
   "metadata": {},
   "source": [
    "## School Summary"
   ]
  },
  {
   "cell_type": "markdown",
   "metadata": {},
   "source": [
    "* Create an overview table that summarizes key metrics about each school, including:\n",
    "  * School Name\n",
    "  * School Type\n",
    "  * Total Students\n",
    "  * Total School Budget\n",
    "  * Per Student Budget\n",
    "  * Average Math Score\n",
    "  * Average Reading Score\n",
    "  * % Passing Math\n",
    "  * % Passing Reading\n",
    "  * Overall Passing Rate (Average of the above two)\n",
    "  \n",
    "* Create a dataframe to hold the above results"
   ]
  },
  {
   "cell_type": "code",
   "execution_count": null,
   "metadata": {},
   "outputs": [],
   "source": [
    "mergedf = school_data_complete.groupby([\"school_name\"])\n",
    "readavg = mergedf[\"reading_score\"].mean()\n",
    "mathavg = mergedf[\"math_score\"].mean()\n",
    "typeschool = mergedf[\"type\"].first()\n",
    "studenttotal = mergedf.size()\n",
    "budgettotal = mergedf[\"budget\"].first()\n",
    "budgetperstudent = (budgettotal/studenttotal)\n",
    "passread = school_data_complete[school_data_complete[\"reading_score\"]>=70].groupby([\"school_name\"]).size()\n",
    "passmath = school_data_complete[school_data_complete[\"math_score\"]>=70].groupby([\"school_name\"]).size()\n",
    "percpassread = (passread/studenttotal)*100\n",
    "percpassmath = (passmath/studenttotal)*100\n",
    "overallpass = (percpassmath + percpassread)/2"
   ]
  },
  {
   "cell_type": "code",
   "execution_count": null,
   "metadata": {},
   "outputs": [],
   "source": [
    "summ = {\n",
    "    \"School Type\": typeschool,\n",
    "    \"Total Students\" : studenttotal,\n",
    "    \"Total School Budget\" : budgettotal,\n",
    "    \"Per Student Budget\" : budgetperstudent,\n",
    "    \"Average Math Score\" : mathavg,\n",
    "    \"Average Reading Score\" : readavg,\n",
    "    \"% Passing Math\" : percpassmath,\n",
    "    \"% Passing Reading\" : percpassread,\n",
    "    \"Overall Passing Rate\" : overallpass  \n",
    "}\n",
    "schoolsumm = pd.DataFrame(summ)\n",
    "schoolsumm"
   ]
  },
  {
   "cell_type": "markdown",
   "metadata": {},
   "source": [
    "## Top Performing Schools (By Passing Rate)"
   ]
  },
  {
   "cell_type": "markdown",
   "metadata": {},
   "source": [
    "* Sort and display the top five schools in overall passing rate"
   ]
  },
  {
   "cell_type": "code",
   "execution_count": null,
   "metadata": {},
   "outputs": [],
   "source": [
    "topperforming = schoolsumm.sort_values(by=\"Overall Passing Rate\", ascending=False)\n",
    "topperforming.head()"
   ]
  },
  {
   "cell_type": "markdown",
   "metadata": {},
   "source": [
    "## Bottom Performing Schools (By Passing Rate)"
   ]
  },
  {
   "cell_type": "markdown",
   "metadata": {},
   "source": [
    "* Sort and display the five worst-performing schools"
   ]
  },
  {
   "cell_type": "code",
   "execution_count": null,
   "metadata": {},
   "outputs": [],
   "source": [
    "worstperforming = schoolsumm.sort_values(by=\"Overall Passing Rate\", ascending=True)\n",
    "worstperforming.head()"
   ]
  },
  {
   "cell_type": "markdown",
   "metadata": {
    "collapsed": true
   },
   "source": [
    "## Math Scores by Grade"
   ]
  },
  {
   "cell_type": "markdown",
   "metadata": {},
   "source": [
    "* Create a table that lists the average Reading Score for students of each grade level (9th, 10th, 11th, 12th) at each school.\n",
    "\n",
    "  * Create a pandas series for each grade. Hint: use a conditional statement.\n",
    "  \n",
    "  * Group each series by school\n",
    "  \n",
    "  * Combine the series into a dataframe\n",
    "  \n",
    "  * Optional: give the displayed data cleaner formatting"
   ]
  },
  {
   "cell_type": "code",
   "execution_count": null,
   "metadata": {},
   "outputs": [],
   "source": [
    "mathavg9th = school_data_complete[school_data_complete[\"grade\"]==\"9th\"].groupby(\"school_name\")[\"math_score\"].mean()\n",
    "mathavg10th = school_data_complete[school_data_complete[\"grade\"]==\"10th\"].groupby(\"school_name\")[\"math_score\"].mean()\n",
    "mathavg11th = school_data_complete[school_data_complete[\"grade\"]==\"11th\"].groupby(\"school_name\")[\"math_score\"].mean()\n",
    "mathavg12th = school_data_complete[school_data_complete[\"grade\"]==\"12th\"].groupby(\"school_name\")[\"math_score\"].mean()\n",
    "avgmathscore = { \"9th\" : mathavg9th, \"10th\" : mathavg10th, \"11th\" : mathavg11th, \"12th\" : mathavg12th}\n",
    "avgmathscore_df = pd.DataFrame(avgmathscore)\n",
    "avgmathscore_df"
   ]
  },
  {
   "cell_type": "markdown",
   "metadata": {},
   "source": [
    "## Reading Score by Grade "
   ]
  },
  {
   "cell_type": "markdown",
   "metadata": {},
   "source": [
    "* Perform the same operations as above for reading scores"
   ]
  },
  {
   "cell_type": "code",
   "execution_count": null,
   "metadata": {},
   "outputs": [],
   "source": [
    "readavg9th = school_data_complete[school_data_complete[\"grade\"]==\"9th\"].groupby(\"school_name\")[\"reading_score\"].mean()\n",
    "readavg10th = school_data_complete[school_data_complete[\"grade\"]==\"10th\"].groupby(\"school_name\")[\"reading_score\"].mean()\n",
    "readavg11th = school_data_complete[school_data_complete[\"grade\"]==\"11th\"].groupby(\"school_name\")[\"reading_score\"].mean()\n",
    "readavg12th = school_data_complete[school_data_complete[\"grade\"]==\"12th\"].groupby(\"school_name\")[\"reading_score\"].mean()\n",
    "avgreadscore = {\"9th\" : readavg9th, \"10th\" : readavg10th, \"11th\" : readavg11th, \"12th\" : readavg12th}\n",
    "avgreadscore_df = pd.DataFrame(avgreadscore)\n",
    "avgreadscore_df"
   ]
  },
  {
   "cell_type": "markdown",
   "metadata": {},
   "source": [
    "## Scores by School Spending"
   ]
  },
  {
   "cell_type": "markdown",
   "metadata": {},
   "source": [
    "* Create a table that breaks down school performances based on average Spending Ranges (Per Student). Use 4 reasonable bins to group school spending. Include in the table each of the following:\n",
    "  * Average Math Score\n",
    "  * Average Reading Score\n",
    "  * % Passing Math\n",
    "  * % Passing Reading\n",
    "  * Overall Passing Rate (Average of the above two)"
   ]
  },
  {
   "cell_type": "code",
   "execution_count": null,
   "metadata": {},
   "outputs": [],
   "source": [
    "# Sample bins. Feel free to create your own bins.\n",
    "spending_bins = [0, 585, 615, 645, 675]\n",
    "group_names = [\"<$585\", \"$585-615\", \"$615-645\", \"$645-675\"]\n",
    "schoolspending = schoolsumm.loc[:, [ \"Average Math Score\", \"Average Reading Score\", \n",
    "                                   \"% Passing Math\", \"% Passing Reading\", \"Overall Passing Rate\"]]\n",
    "schoolspending[\"Spending Ranges (Per Student)\"]=pd.cut(schoolsumm[\"Per Student Budget\"], spending_bins, labels=group_names)\n",
    "schoolspending = schoolspending.groupby(\"Spending Ranges (Per Student)\").mean()\n",
    "schoolspending"
   ]
  },
  {
   "cell_type": "markdown",
   "metadata": {},
   "source": [
    "## Scores by School Size"
   ]
  },
  {
   "cell_type": "markdown",
   "metadata": {},
   "source": [
    "* Perform the same operations as above, based on school size."
   ]
  },
  {
   "cell_type": "code",
   "execution_count": null,
   "metadata": {},
   "outputs": [],
   "source": [
    "# Sample bins. Feel free to create your own bins.\n",
    "size_bins = [0, 1000, 2000, 5000]\n",
    "group_names = [\"Small (<1000)\", \"Medium (1000-2000)\", \"Large (2000-5000)\"]\n",
    "schoolsumm.head()"
   ]
  },
  {
   "cell_type": "code",
   "execution_count": null,
   "metadata": {
    "scrolled": true
   },
   "outputs": [],
   "source": [
    "schoolsize = schoolsumm.loc[:, [ \"Average Math Score\", \"Average Reading Score\", \n",
    "                                   \"% Passing Math\", \"% Passing Reading\", \"Overall Passing Rate\"]]\n",
    "schoolsize[\"School Size\"]=pd.cut(schoolsumm[\"Total Students\"], size_bins, labels=group_names)\n",
    "schoolsize = schoolsize.groupby(\"School Size\").mean()\n",
    "schoolsize"
   ]
  },
  {
   "cell_type": "markdown",
   "metadata": {},
   "source": [
    "## Scores by School Type"
   ]
  },
  {
   "cell_type": "markdown",
   "metadata": {},
   "source": [
    "* Perform the same operations as above, based on school type."
   ]
  },
  {
   "cell_type": "code",
   "execution_count": null,
   "metadata": {},
   "outputs": [],
   "source": [
    "schoolsumm"
   ]
  },
  {
   "cell_type": "code",
   "execution_count": null,
   "metadata": {},
   "outputs": [],
   "source": [
    "schooltype = schoolsumm.loc[:, [ \"Average Math Score\", \"Average Reading Score\", \n",
    "                                   \"% Passing Math\", \"% Passing Reading\", \"Overall Passing Rate\",\"School Type\"]]\n",
    "schooltype = schooltype.groupby(\"School Type\").mean()\n",
    "schooltype"
   ]
  }
 ],
 "metadata": {
  "anaconda-cloud": {},
  "kernel_info": {
   "name": "python3"
  },
  "kernelspec": {
   "display_name": "Python 3",
   "language": "python",
   "name": "python3"
  },
  "language_info": {
   "codemirror_mode": {
    "name": "ipython",
    "version": 3
   },
   "file_extension": ".py",
   "mimetype": "text/x-python",
   "name": "python",
   "nbconvert_exporter": "python",
   "pygments_lexer": "ipython3",
   "version": "3.7.3"
  },
  "latex_envs": {
   "LaTeX_envs_menu_present": true,
   "autoclose": false,
   "autocomplete": true,
   "bibliofile": "biblio.bib",
   "cite_by": "apalike",
   "current_citInitial": 1,
   "eqLabelWithNumbers": true,
   "eqNumInitial": 1,
   "hotkeys": {
    "equation": "Ctrl-E",
    "itemize": "Ctrl-I"
   },
   "labels_anchors": false,
   "latex_user_defs": false,
   "report_style_numbering": false,
   "user_envs_cfg": false
  },
  "nteract": {
   "version": "0.8.4"
  }
 },
 "nbformat": 4,
 "nbformat_minor": 1
}
